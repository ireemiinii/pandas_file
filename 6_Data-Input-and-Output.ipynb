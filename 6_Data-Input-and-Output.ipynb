{
 "cells": [
  {
   "cell_type": "markdown",
   "metadata": {
    "id": "4GrkkTGCOH8s"
   },
   "source": [
    "<div class=\"alert alert-info\"><strong>NOTE:</strong> Typically we will just be either reading csv files directly or using pandas-datareader to pull data from the web. Consider this lecture just a quick overview of what is possible with pandas (we won't be working with SQL or Excel files\n",
    ")</div>"
   ]
  },
  {
   "cell_type": "markdown",
   "metadata": {
    "id": "fJs5QhgFOH8t"
   },
   "source": [
    "# Data Input and Output\n",
    "\n",
    "This notebook is the reference code for getting input and output, pandas can read a variety of file types using its pd.read_ methods. Let's take a look at the most common data types:"
   ]
  },
  {
   "cell_type": "code",
   "execution_count": 1,
   "metadata": {
    "id": "l33IDhtrOH8t"
   },
   "outputs": [],
   "source": [
    "import numpy as np\n",
    "import pandas as pd"
   ]
  },
  {
   "cell_type": "markdown",
   "metadata": {
    "id": "yF3NSm_YOH8u"
   },
   "source": [
    "## CSV\n",
    "Comma Separated Values files are text files that use commas as field delimeters.<br>\n",
    "Unless you're running the virtual environment included with the course, you may need to install <tt>xlrd</tt> and <tt>openpyxl</tt>.<br>\n",
    "In your terminal/command prompt run:\n",
    "\n",
    "    conda install xlrd\n",
    "    conda install openpyxl\n",
    "\n",
    "Then restart Jupyter Notebook.\n",
    "(or use pip install if you aren't using the Anaconda Distribution)\n",
    "\n",
    "### CSV Input"
   ]
  },
  {
   "cell_type": "code",
   "execution_count": 2,
   "metadata": {
    "colab": {
     "base_uri": "https://localhost:8080/",
     "height": 175
    },
    "executionInfo": {
     "elapsed": 313,
     "status": "ok",
     "timestamp": 1633971853872,
     "user": {
      "displayName": "Engin Tunalı",
      "photoUrl": "https://lh3.googleusercontent.com/a/default-user=s64",
      "userId": "04365200986728431923"
     },
     "user_tz": -180
    },
    "id": "FMNkk42gOH8u",
    "outputId": "420d2407-7d5a-423f-b644-573f0323d204"
   },
   "outputs": [
    {
     "data": {
      "text/html": [
       "<div>\n",
       "<style scoped>\n",
       "    .dataframe tbody tr th:only-of-type {\n",
       "        vertical-align: middle;\n",
       "    }\n",
       "\n",
       "    .dataframe tbody tr th {\n",
       "        vertical-align: top;\n",
       "    }\n",
       "\n",
       "    .dataframe thead th {\n",
       "        text-align: right;\n",
       "    }\n",
       "</style>\n",
       "<table border=\"1\" class=\"dataframe\">\n",
       "  <thead>\n",
       "    <tr style=\"text-align: right;\">\n",
       "      <th></th>\n",
       "      <th>a</th>\n",
       "      <th>b</th>\n",
       "      <th>c</th>\n",
       "      <th>d</th>\n",
       "    </tr>\n",
       "  </thead>\n",
       "  <tbody>\n",
       "    <tr>\n",
       "      <th>0</th>\n",
       "      <td>0</td>\n",
       "      <td>1</td>\n",
       "      <td>2</td>\n",
       "      <td>3</td>\n",
       "    </tr>\n",
       "    <tr>\n",
       "      <th>1</th>\n",
       "      <td>4</td>\n",
       "      <td>5</td>\n",
       "      <td>6</td>\n",
       "      <td>7</td>\n",
       "    </tr>\n",
       "    <tr>\n",
       "      <th>2</th>\n",
       "      <td>8</td>\n",
       "      <td>9</td>\n",
       "      <td>10</td>\n",
       "      <td>11</td>\n",
       "    </tr>\n",
       "    <tr>\n",
       "      <th>3</th>\n",
       "      <td>12</td>\n",
       "      <td>13</td>\n",
       "      <td>14</td>\n",
       "      <td>15</td>\n",
       "    </tr>\n",
       "  </tbody>\n",
       "</table>\n",
       "</div>"
      ],
      "text/plain": [
       "    a   b   c   d\n",
       "0   0   1   2   3\n",
       "1   4   5   6   7\n",
       "2   8   9  10  11\n",
       "3  12  13  14  15"
      ]
     },
     "execution_count": 2,
     "metadata": {},
     "output_type": "execute_result"
    }
   ],
   "source": [
    "df = pd.read_csv('example.csv') # PC path: \"C://Users/Engin/Desktop/GMT492/Week3/example.csv\"\n",
    "df"
   ]
  },
  {
   "cell_type": "markdown",
   "metadata": {
    "id": "J843DbKKOH8v"
   },
   "source": [
    "### CSV Output"
   ]
  },
  {
   "cell_type": "code",
   "execution_count": 4,
   "metadata": {
    "colab": {
     "base_uri": "https://localhost:8080/",
     "height": 175
    },
    "executionInfo": {
     "elapsed": 255,
     "status": "ok",
     "timestamp": 1633971857992,
     "user": {
      "displayName": "Engin Tunalı",
      "photoUrl": "https://lh3.googleusercontent.com/a/default-user=s64",
      "userId": "04365200986728431923"
     },
     "user_tz": -180
    },
    "id": "WfCFi_P6Tps-",
    "outputId": "38018254-a15c-4203-ea13-e4b0add7ea9f"
   },
   "outputs": [
    {
     "data": {
      "text/html": [
       "<div>\n",
       "<style scoped>\n",
       "    .dataframe tbody tr th:only-of-type {\n",
       "        vertical-align: middle;\n",
       "    }\n",
       "\n",
       "    .dataframe tbody tr th {\n",
       "        vertical-align: top;\n",
       "    }\n",
       "\n",
       "    .dataframe thead th {\n",
       "        text-align: right;\n",
       "    }\n",
       "</style>\n",
       "<table border=\"1\" class=\"dataframe\">\n",
       "  <thead>\n",
       "    <tr style=\"text-align: right;\">\n",
       "      <th></th>\n",
       "      <th>a</th>\n",
       "      <th>b</th>\n",
       "    </tr>\n",
       "  </thead>\n",
       "  <tbody>\n",
       "    <tr>\n",
       "      <th>0</th>\n",
       "      <td>0</td>\n",
       "      <td>1</td>\n",
       "    </tr>\n",
       "    <tr>\n",
       "      <th>1</th>\n",
       "      <td>4</td>\n",
       "      <td>5</td>\n",
       "    </tr>\n",
       "    <tr>\n",
       "      <th>2</th>\n",
       "      <td>8</td>\n",
       "      <td>9</td>\n",
       "    </tr>\n",
       "    <tr>\n",
       "      <th>3</th>\n",
       "      <td>12</td>\n",
       "      <td>13</td>\n",
       "    </tr>\n",
       "  </tbody>\n",
       "</table>\n",
       "</div>"
      ],
      "text/plain": [
       "    a   b\n",
       "0   0   1\n",
       "1   4   5\n",
       "2   8   9\n",
       "3  12  13"
      ]
     },
     "execution_count": 4,
     "metadata": {},
     "output_type": "execute_result"
    }
   ],
   "source": [
    "newdf = df[[\"a\",\"b\"]]\n",
    "newdf"
   ]
  },
  {
   "cell_type": "code",
   "execution_count": 5,
   "metadata": {
    "id": "q7-ot_QrOH8v"
   },
   "outputs": [],
   "source": [
    "newdf.to_csv('example_2.csv',index=False)"
   ]
  },
  {
   "cell_type": "markdown",
   "metadata": {
    "id": "Jv2AX6aZOH8w"
   },
   "source": [
    "## Excel\n",
    "Pandas can read and write MS Excel files. However, this only imports data, not formulas or images. A file that contains images or macros may cause the <tt>.read_excel()</tt>method to crash. "
   ]
  },
  {
   "cell_type": "markdown",
   "metadata": {
    "id": "ShnlqO6FOH8w"
   },
   "source": [
    "### Excel Input"
   ]
  },
  {
   "cell_type": "code",
   "execution_count": 7,
   "metadata": {
    "colab": {
     "base_uri": "https://localhost:8080/",
     "height": 175
    },
    "executionInfo": {
     "elapsed": 316,
     "status": "ok",
     "timestamp": 1633972673585,
     "user": {
      "displayName": "Engin Tunalı",
      "photoUrl": "https://lh3.googleusercontent.com/a/default-user=s64",
      "userId": "04365200986728431923"
     },
     "user_tz": -180
    },
    "id": "qAD7uEcsOH8w",
    "outputId": "77a561e8-3e57-4f80-a857-a3fa0d192a54"
   },
   "outputs": [
    {
     "data": {
      "text/html": [
       "<div>\n",
       "<style scoped>\n",
       "    .dataframe tbody tr th:only-of-type {\n",
       "        vertical-align: middle;\n",
       "    }\n",
       "\n",
       "    .dataframe tbody tr th {\n",
       "        vertical-align: top;\n",
       "    }\n",
       "\n",
       "    .dataframe thead th {\n",
       "        text-align: right;\n",
       "    }\n",
       "</style>\n",
       "<table border=\"1\" class=\"dataframe\">\n",
       "  <thead>\n",
       "    <tr style=\"text-align: right;\">\n",
       "      <th></th>\n",
       "      <th>a</th>\n",
       "      <th>b</th>\n",
       "      <th>c</th>\n",
       "      <th>d</th>\n",
       "    </tr>\n",
       "  </thead>\n",
       "  <tbody>\n",
       "    <tr>\n",
       "      <th>0</th>\n",
       "      <td>0</td>\n",
       "      <td>1</td>\n",
       "      <td>2</td>\n",
       "      <td>3</td>\n",
       "    </tr>\n",
       "    <tr>\n",
       "      <th>1</th>\n",
       "      <td>4</td>\n",
       "      <td>5</td>\n",
       "      <td>6</td>\n",
       "      <td>7</td>\n",
       "    </tr>\n",
       "    <tr>\n",
       "      <th>2</th>\n",
       "      <td>8</td>\n",
       "      <td>9</td>\n",
       "      <td>10</td>\n",
       "      <td>11</td>\n",
       "    </tr>\n",
       "    <tr>\n",
       "      <th>3</th>\n",
       "      <td>12</td>\n",
       "      <td>13</td>\n",
       "      <td>14</td>\n",
       "      <td>15</td>\n",
       "    </tr>\n",
       "  </tbody>\n",
       "</table>\n",
       "</div>"
      ],
      "text/plain": [
       "    a   b   c   d\n",
       "0   0   1   2   3\n",
       "1   4   5   6   7\n",
       "2   8   9  10  11\n",
       "3  12  13  14  15"
      ]
     },
     "execution_count": 7,
     "metadata": {},
     "output_type": "execute_result"
    }
   ],
   "source": [
    "df = pd.read_excel('D:/HACETTEPE/4.sınıf/Güz Dönemi/Geomatik Mühendisliğinde Özel Konular/Pandas_Files/Excel_Sample.xlsx',sheet_name='Sheet1')\n",
    "df"
   ]
  },
  {
   "cell_type": "code",
   "execution_count": 8,
   "metadata": {
    "colab": {
     "base_uri": "https://localhost:8080/",
     "height": 175
    },
    "executionInfo": {
     "elapsed": 296,
     "status": "ok",
     "timestamp": 1633972677781,
     "user": {
      "displayName": "Engin Tunalı",
      "photoUrl": "https://lh3.googleusercontent.com/a/default-user=s64",
      "userId": "04365200986728431923"
     },
     "user_tz": -180
    },
    "id": "zH8QSKHNW-TR",
    "outputId": "694c476a-d3e8-4db1-f933-6bba0bcb9952"
   },
   "outputs": [
    {
     "data": {
      "text/html": [
       "<div>\n",
       "<style scoped>\n",
       "    .dataframe tbody tr th:only-of-type {\n",
       "        vertical-align: middle;\n",
       "    }\n",
       "\n",
       "    .dataframe tbody tr th {\n",
       "        vertical-align: top;\n",
       "    }\n",
       "\n",
       "    .dataframe thead th {\n",
       "        text-align: right;\n",
       "    }\n",
       "</style>\n",
       "<table border=\"1\" class=\"dataframe\">\n",
       "  <thead>\n",
       "    <tr style=\"text-align: right;\">\n",
       "      <th></th>\n",
       "      <th>a</th>\n",
       "      <th>b</th>\n",
       "    </tr>\n",
       "  </thead>\n",
       "  <tbody>\n",
       "    <tr>\n",
       "      <th>0</th>\n",
       "      <td>0</td>\n",
       "      <td>1</td>\n",
       "    </tr>\n",
       "    <tr>\n",
       "      <th>1</th>\n",
       "      <td>4</td>\n",
       "      <td>5</td>\n",
       "    </tr>\n",
       "    <tr>\n",
       "      <th>2</th>\n",
       "      <td>8</td>\n",
       "      <td>9</td>\n",
       "    </tr>\n",
       "    <tr>\n",
       "      <th>3</th>\n",
       "      <td>12</td>\n",
       "      <td>13</td>\n",
       "    </tr>\n",
       "  </tbody>\n",
       "</table>\n",
       "</div>"
      ],
      "text/plain": [
       "    a   b\n",
       "0   0   1\n",
       "1   4   5\n",
       "2   8   9\n",
       "3  12  13"
      ]
     },
     "execution_count": 8,
     "metadata": {},
     "output_type": "execute_result"
    }
   ],
   "source": [
    "newdf = df[[\"a\",\"b\"]]\n",
    "newdf"
   ]
  },
  {
   "cell_type": "markdown",
   "metadata": {
    "id": "jMAwWZn5OH8x"
   },
   "source": [
    "### Excel Output"
   ]
  },
  {
   "cell_type": "code",
   "execution_count": 10,
   "metadata": {
    "id": "NktSAATbOH8x"
   },
   "outputs": [],
   "source": [
    "newdf.to_excel('Excel_Sample2.xlsx',sheet_name='Sheet1')"
   ]
  },
  {
   "cell_type": "markdown",
   "metadata": {
    "id": "nYkfcEOWOH8x"
   },
   "source": [
    "## HTML\n",
    "Pandas can read table tabs off of HTML.<br>\n",
    "Unless you're running the virtual environment included with the course, you may need to install <tt>lxml</tt>, <tt>htmllib5</tt>, and <tt>BeautifulSoup4</tt>.<br>\n",
    "In your terminal/command prompt run:\n",
    "\n",
    "    conda install lxml\n",
    "    conda install html5lib\n",
    "    conda install beautifulsoup4\n",
    "\n",
    "Then restart Jupyter Notebook.\n",
    "(or use pip install if you aren't using the Anaconda Distribution)"
   ]
  },
  {
   "cell_type": "code",
   "execution_count": null,
   "metadata": {
    "colab": {
     "base_uri": "https://localhost:8080/"
    },
    "executionInfo": {
     "elapsed": 3793,
     "status": "ok",
     "timestamp": 1633973095775,
     "user": {
      "displayName": "Engin Tunalı",
      "photoUrl": "https://lh3.googleusercontent.com/a/default-user=s64",
      "userId": "04365200986728431923"
     },
     "user_tz": -180
    },
    "id": "9kw4AwA9YoCS",
    "outputId": "fec1c093-e52e-492d-b0be-5237e38c10db"
   },
   "outputs": [
    {
     "name": "stdout",
     "output_type": "stream",
     "text": [
      "Requirement already satisfied: beautifulsoup4 in /usr/local/lib/python3.7/dist-packages (4.6.3)\n"
     ]
    }
   ],
   "source": [
    "pip install beautifulsoup4"
   ]
  },
  {
   "cell_type": "code",
   "execution_count": null,
   "metadata": {
    "colab": {
     "base_uri": "https://localhost:8080/"
    },
    "executionInfo": {
     "elapsed": 3078,
     "status": "ok",
     "timestamp": 1633973118306,
     "user": {
      "displayName": "Engin Tunalı",
      "photoUrl": "https://lh3.googleusercontent.com/a/default-user=s64",
      "userId": "04365200986728431923"
     },
     "user_tz": -180
    },
    "id": "H_98IVwHYuL5",
    "outputId": "53787428-4d8d-4564-c566-47b14f4d6f26"
   },
   "outputs": [
    {
     "name": "stdout",
     "output_type": "stream",
     "text": [
      "Requirement already satisfied: html5lib in /usr/local/lib/python3.7/dist-packages (1.0.1)\n",
      "Requirement already satisfied: webencodings in /usr/local/lib/python3.7/dist-packages (from html5lib) (0.5.1)\n",
      "Requirement already satisfied: six>=1.9 in /usr/local/lib/python3.7/dist-packages (from html5lib) (1.15.0)\n"
     ]
    }
   ],
   "source": [
    "pip install html5lib"
   ]
  },
  {
   "cell_type": "code",
   "execution_count": null,
   "metadata": {
    "colab": {
     "base_uri": "https://localhost:8080/"
    },
    "executionInfo": {
     "elapsed": 3115,
     "status": "ok",
     "timestamp": 1633973130119,
     "user": {
      "displayName": "Engin Tunalı",
      "photoUrl": "https://lh3.googleusercontent.com/a/default-user=s64",
      "userId": "04365200986728431923"
     },
     "user_tz": -180
    },
    "id": "VroIYbqsYuS6",
    "outputId": "9eb9473d-5ccb-4bda-81ad-9674acc7f9f8"
   },
   "outputs": [
    {
     "name": "stdout",
     "output_type": "stream",
     "text": [
      "Requirement already satisfied: lxml in /usr/local/lib/python3.7/dist-packages (4.2.6)\n"
     ]
    }
   ],
   "source": [
    "pip install lxml"
   ]
  },
  {
   "cell_type": "markdown",
   "metadata": {
    "id": "jO1W3ew8OH8x"
   },
   "source": [
    "### HTML Input\n",
    "\n",
    "Pandas read_html function will read tables off of a webpage and return a list of DataFrame objects:"
   ]
  },
  {
   "cell_type": "code",
   "execution_count": null,
   "metadata": {
    "id": "Jb7A1IIiOH8x"
   },
   "outputs": [],
   "source": [
    "path = \"https://www.epncb.oma.be/_networkdata/stationlist.php\"\n",
    "\n",
    "mylist_of_tables = pd.read_html(path)"
   ]
  },
  {
   "cell_type": "code",
   "execution_count": null,
   "metadata": {
    "colab": {
     "base_uri": "https://localhost:8080/"
    },
    "executionInfo": {
     "elapsed": 14,
     "status": "ok",
     "timestamp": 1633973791637,
     "user": {
      "displayName": "Engin Tunalı",
      "photoUrl": "https://lh3.googleusercontent.com/a/default-user=s64",
      "userId": "04365200986728431923"
     },
     "user_tz": -180
    },
    "id": "a6tr4DXYOH8y",
    "outputId": "5555d568-de06-4c20-f0a2-4d01ceecd642"
   },
   "outputs": [
    {
     "data": {
      "text/plain": [
       "list"
      ]
     },
     "execution_count": 59,
     "metadata": {},
     "output_type": "execute_result"
    }
   ],
   "source": [
    "type(mylist_of_tables)"
   ]
  },
  {
   "cell_type": "code",
   "execution_count": null,
   "metadata": {
    "colab": {
     "base_uri": "https://localhost:8080/"
    },
    "executionInfo": {
     "elapsed": 8,
     "status": "ok",
     "timestamp": 1633973792714,
     "user": {
      "displayName": "Engin Tunalı",
      "photoUrl": "https://lh3.googleusercontent.com/a/default-user=s64",
      "userId": "04365200986728431923"
     },
     "user_tz": -180
    },
    "id": "wKCMMEgTZYoj",
    "outputId": "e97dbdab-807c-4bd3-d851-748200be2350"
   },
   "outputs": [
    {
     "data": {
      "text/plain": [
       "16"
      ]
     },
     "execution_count": 60,
     "metadata": {},
     "output_type": "execute_result"
    }
   ],
   "source": [
    "len(mylist_of_tables)"
   ]
  },
  {
   "cell_type": "code",
   "execution_count": null,
   "metadata": {
    "colab": {
     "base_uri": "https://localhost:8080/",
     "height": 461
    },
    "executionInfo": {
     "elapsed": 310,
     "status": "ok",
     "timestamp": 1633973635431,
     "user": {
      "displayName": "Engin Tunalı",
      "photoUrl": "https://lh3.googleusercontent.com/a/default-user=s64",
      "userId": "04365200986728431923"
     },
     "user_tz": -180
    },
    "id": "vzLwXojHZrJb",
    "outputId": "86b6b4e4-29f4-4f17-bc8c-01dda82d0d4e"
   },
   "outputs": [
    {
     "data": {
      "text/html": [
       "<div>\n",
       "<style scoped>\n",
       "    .dataframe tbody tr th:only-of-type {\n",
       "        vertical-align: middle;\n",
       "    }\n",
       "\n",
       "    .dataframe tbody tr th {\n",
       "        vertical-align: top;\n",
       "    }\n",
       "\n",
       "    .dataframe thead th {\n",
       "        text-align: right;\n",
       "    }\n",
       "</style>\n",
       "<table border=\"1\" class=\"dataframe\">\n",
       "  <thead>\n",
       "    <tr style=\"text-align: right;\">\n",
       "      <th></th>\n",
       "      <th>Name</th>\n",
       "      <th>City</th>\n",
       "      <th>Country</th>\n",
       "      <th>Domes</th>\n",
       "      <th>Status</th>\n",
       "      <th>EPN Inclusion</th>\n",
       "      <th>Station Log</th>\n",
       "      <th>OperationalCentre</th>\n",
       "      <th>TectonicPlate</th>\n",
       "      <th>Latitude</th>\n",
       "      <th>Longitude</th>\n",
       "      <th>Elevation</th>\n",
       "      <th>X</th>\n",
       "      <th>Y</th>\n",
       "      <th>Z</th>\n",
       "      <th>IGS</th>\n",
       "      <th>ITRF2014</th>\n",
       "      <th>IGS14</th>\n",
       "    </tr>\n",
       "  </thead>\n",
       "  <tbody>\n",
       "    <tr>\n",
       "      <th>0</th>\n",
       "      <td>ACOR00ESP</td>\n",
       "      <td>A Coruna</td>\n",
       "      <td>ESP</td>\n",
       "      <td>13434M001</td>\n",
       "      <td>A</td>\n",
       "      <td>1999-09-05</td>\n",
       "      <td>acor00esp_20210603.log</td>\n",
       "      <td>IGE</td>\n",
       "      <td>EURASIAN</td>\n",
       "      <td>43.3644</td>\n",
       "      <td>-8.3989</td>\n",
       "      <td>67.0</td>\n",
       "      <td>4594489.94</td>\n",
       "      <td>-678368.07</td>\n",
       "      <td>4357065.90</td>\n",
       "      <td>NaN</td>\n",
       "      <td>ITRF2014</td>\n",
       "      <td>NaN</td>\n",
       "    </tr>\n",
       "    <tr>\n",
       "      <th>1</th>\n",
       "      <td>ADAR00GBR</td>\n",
       "      <td>Aberdaron</td>\n",
       "      <td>GBR</td>\n",
       "      <td>19161M001</td>\n",
       "      <td>A</td>\n",
       "      <td>2017-02-12</td>\n",
       "      <td>adar00gbr_20210429.log</td>\n",
       "      <td>OS</td>\n",
       "      <td>EURASIAN</td>\n",
       "      <td>52.7892</td>\n",
       "      <td>-4.7413</td>\n",
       "      <td>148.4</td>\n",
       "      <td>3852250.00</td>\n",
       "      <td>-319511.00</td>\n",
       "      <td>5056510.00</td>\n",
       "      <td>NaN</td>\n",
       "      <td>NaN</td>\n",
       "      <td>NaN</td>\n",
       "    </tr>\n",
       "    <tr>\n",
       "      <th>2</th>\n",
       "      <td>AJAC00FRA</td>\n",
       "      <td>Ajaccio</td>\n",
       "      <td>FRA</td>\n",
       "      <td>10077M005</td>\n",
       "      <td>A</td>\n",
       "      <td>2000-02-20</td>\n",
       "      <td>ajac00fra_20200123.log</td>\n",
       "      <td>IGN_RGP</td>\n",
       "      <td>EURASIAN</td>\n",
       "      <td>41.9275</td>\n",
       "      <td>8.7626</td>\n",
       "      <td>98.8</td>\n",
       "      <td>4696990.00</td>\n",
       "      <td>723994.00</td>\n",
       "      <td>4239678.00</td>\n",
       "      <td>IGS</td>\n",
       "      <td>ITRF2014</td>\n",
       "      <td>IGS14</td>\n",
       "    </tr>\n",
       "    <tr>\n",
       "      <th>3</th>\n",
       "      <td>ALAC00ESP</td>\n",
       "      <td>Alicante</td>\n",
       "      <td>ESP</td>\n",
       "      <td>13433M001</td>\n",
       "      <td>A</td>\n",
       "      <td>1999-09-05</td>\n",
       "      <td>alac00esp_20210830.log</td>\n",
       "      <td>IGE</td>\n",
       "      <td>EURASIAN</td>\n",
       "      <td>38.3389</td>\n",
       "      <td>-0.4812</td>\n",
       "      <td>60.3</td>\n",
       "      <td>5009051.41</td>\n",
       "      <td>-42072.47</td>\n",
       "      <td>3935057.48</td>\n",
       "      <td>NaN</td>\n",
       "      <td>ITRF2014</td>\n",
       "      <td>NaN</td>\n",
       "    </tr>\n",
       "    <tr>\n",
       "      <th>4</th>\n",
       "      <td>ALBA00ESP</td>\n",
       "      <td>Albacete</td>\n",
       "      <td>ESP</td>\n",
       "      <td>13452M001</td>\n",
       "      <td>A</td>\n",
       "      <td>2007-09-09</td>\n",
       "      <td>alba00esp_20210419.log</td>\n",
       "      <td>IGE</td>\n",
       "      <td>EURASIAN</td>\n",
       "      <td>38.9779</td>\n",
       "      <td>-1.8564</td>\n",
       "      <td>751.6</td>\n",
       "      <td>4962848.13</td>\n",
       "      <td>-160854.39</td>\n",
       "      <td>3990884.14</td>\n",
       "      <td>NaN</td>\n",
       "      <td>NaN</td>\n",
       "      <td>NaN</td>\n",
       "    </tr>\n",
       "    <tr>\n",
       "      <th>...</th>\n",
       "      <td>...</td>\n",
       "      <td>...</td>\n",
       "      <td>...</td>\n",
       "      <td>...</td>\n",
       "      <td>...</td>\n",
       "      <td>...</td>\n",
       "      <td>...</td>\n",
       "      <td>...</td>\n",
       "      <td>...</td>\n",
       "      <td>...</td>\n",
       "      <td>...</td>\n",
       "      <td>...</td>\n",
       "      <td>...</td>\n",
       "      <td>...</td>\n",
       "      <td>...</td>\n",
       "      <td>...</td>\n",
       "      <td>...</td>\n",
       "      <td>...</td>\n",
       "    </tr>\n",
       "    <tr>\n",
       "      <th>357</th>\n",
       "      <td>ZIM200CHE</td>\n",
       "      <td>Zimmerwald</td>\n",
       "      <td>CHE</td>\n",
       "      <td>14001M008</td>\n",
       "      <td>A</td>\n",
       "      <td>2007-12-16</td>\n",
       "      <td>zim200che_20200608.log</td>\n",
       "      <td>LPT</td>\n",
       "      <td>EURASIAN</td>\n",
       "      <td>46.8771</td>\n",
       "      <td>7.4650</td>\n",
       "      <td>956.5</td>\n",
       "      <td>4331300.16</td>\n",
       "      <td>567537.08</td>\n",
       "      <td>4633133.51</td>\n",
       "      <td>IGS</td>\n",
       "      <td>ITRF2014</td>\n",
       "      <td>IGS14</td>\n",
       "    </tr>\n",
       "    <tr>\n",
       "      <th>358</th>\n",
       "      <td>ZIMM00CHE</td>\n",
       "      <td>Zimmerwald</td>\n",
       "      <td>CHE</td>\n",
       "      <td>14001M004</td>\n",
       "      <td>A</td>\n",
       "      <td>1995-12-31</td>\n",
       "      <td>zimm00che_20200608.log</td>\n",
       "      <td>LPT</td>\n",
       "      <td>EURASIAN</td>\n",
       "      <td>46.8771</td>\n",
       "      <td>7.4653</td>\n",
       "      <td>956.4</td>\n",
       "      <td>4331297.35</td>\n",
       "      <td>567555.64</td>\n",
       "      <td>4633133.73</td>\n",
       "      <td>IGS</td>\n",
       "      <td>ITRF2014</td>\n",
       "      <td>IGS14</td>\n",
       "    </tr>\n",
       "    <tr>\n",
       "      <th>359</th>\n",
       "      <td>ZOUF00ITA</td>\n",
       "      <td>Cercivento</td>\n",
       "      <td>ITA</td>\n",
       "      <td>12763M001</td>\n",
       "      <td>A</td>\n",
       "      <td>2004-01-11</td>\n",
       "      <td>zouf00ita_20191029.log</td>\n",
       "      <td>CRS</td>\n",
       "      <td>EURASIAN</td>\n",
       "      <td>46.5572</td>\n",
       "      <td>12.9736</td>\n",
       "      <td>1946.5</td>\n",
       "      <td>4282710.06</td>\n",
       "      <td>986659.42</td>\n",
       "      <td>4609469.77</td>\n",
       "      <td>NaN</td>\n",
       "      <td>NaN</td>\n",
       "      <td>NaN</td>\n",
       "    </tr>\n",
       "    <tr>\n",
       "      <th>360</th>\n",
       "      <td>ZPRS00UKR</td>\n",
       "      <td>Zaporizhzhia</td>\n",
       "      <td>UKR</td>\n",
       "      <td>18102M001</td>\n",
       "      <td>A</td>\n",
       "      <td>2018-04-29</td>\n",
       "      <td>zprs00ukr_20200604.log</td>\n",
       "      <td>MAO</td>\n",
       "      <td>EURASIAN</td>\n",
       "      <td>47.8287</td>\n",
       "      <td>35.1615</td>\n",
       "      <td>93.6</td>\n",
       "      <td>3507143.16</td>\n",
       "      <td>2470487.82</td>\n",
       "      <td>4704181.52</td>\n",
       "      <td>NaN</td>\n",
       "      <td>NaN</td>\n",
       "      <td>NaN</td>\n",
       "    </tr>\n",
       "    <tr>\n",
       "      <th>361</th>\n",
       "      <td>ZYWI00POL</td>\n",
       "      <td>Zywiec</td>\n",
       "      <td>POL</td>\n",
       "      <td>12220S001</td>\n",
       "      <td>A</td>\n",
       "      <td>2003-08-10</td>\n",
       "      <td>zywi00pol_20210528.log</td>\n",
       "      <td>ASGEUPOS</td>\n",
       "      <td>EURASIAN</td>\n",
       "      <td>49.6867</td>\n",
       "      <td>19.2060</td>\n",
       "      <td>412.8</td>\n",
       "      <td>3904633.00</td>\n",
       "      <td>1360192.00</td>\n",
       "      <td>4840631.00</td>\n",
       "      <td>NaN</td>\n",
       "      <td>NaN</td>\n",
       "      <td>NaN</td>\n",
       "    </tr>\n",
       "  </tbody>\n",
       "</table>\n",
       "<p>362 rows × 18 columns</p>\n",
       "</div>"
      ],
      "text/plain": [
       "          Name          City Country  ...  IGS  ITRF2014  IGS14\n",
       "0    ACOR00ESP      A Coruna     ESP  ...  NaN  ITRF2014    NaN\n",
       "1    ADAR00GBR     Aberdaron     GBR  ...  NaN       NaN    NaN\n",
       "2    AJAC00FRA       Ajaccio     FRA  ...  IGS  ITRF2014  IGS14\n",
       "3    ALAC00ESP      Alicante     ESP  ...  NaN  ITRF2014    NaN\n",
       "4    ALBA00ESP      Albacete     ESP  ...  NaN       NaN    NaN\n",
       "..         ...           ...     ...  ...  ...       ...    ...\n",
       "357  ZIM200CHE    Zimmerwald     CHE  ...  IGS  ITRF2014  IGS14\n",
       "358  ZIMM00CHE    Zimmerwald     CHE  ...  IGS  ITRF2014  IGS14\n",
       "359  ZOUF00ITA    Cercivento     ITA  ...  NaN       NaN    NaN\n",
       "360  ZPRS00UKR  Zaporizhzhia     UKR  ...  NaN       NaN    NaN\n",
       "361  ZYWI00POL        Zywiec     POL  ...  NaN       NaN    NaN\n",
       "\n",
       "[362 rows x 18 columns]"
      ]
     },
     "execution_count": 56,
     "metadata": {},
     "output_type": "execute_result"
    }
   ],
   "source": [
    "df=mylist_of_tables[1]\n",
    "df"
   ]
  },
  {
   "cell_type": "markdown",
   "metadata": {
    "collapsed": true,
    "id": "QR0wBcrkOH8y"
   },
   "source": [
    "____"
   ]
  }
 ],
 "metadata": {
  "colab": {
   "collapsed_sections": [],
   "name": "6_Data-Input-and-Output.ipynb",
   "provenance": []
  },
  "kernelspec": {
   "display_name": "Python 3",
   "language": "python",
   "name": "python3"
  },
  "language_info": {
   "codemirror_mode": {
    "name": "ipython",
    "version": 3
   },
   "file_extension": ".py",
   "mimetype": "text/x-python",
   "name": "python",
   "nbconvert_exporter": "python",
   "pygments_lexer": "ipython3",
   "version": "3.8.8"
  }
 },
 "nbformat": 4,
 "nbformat_minor": 1
}
