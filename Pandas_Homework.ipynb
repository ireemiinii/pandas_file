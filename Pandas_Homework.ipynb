{
 "cells": [
  {
   "cell_type": "markdown",
   "metadata": {
    "id": "kt9TdwpZcv8N"
   },
   "source": [
    "# Pandas Homework\n",
    "Time to test your new pandas skills! Use the <tt>population_by_county.csv</tt> file in the WEB to complete the tasks given below\n",
    "\n",
    "\n",
    "<div class=\"alert alert-danger\" style=\"margin: 10px\"><strong>IMPORTANT NOTE!</strong> Make sure you don't run the cells directly above the example output shown, otherwise you will end up writing over the example output!</div>"
   ]
  },
  {
   "cell_type": "markdown",
   "metadata": {
    "id": "OMSFkqKYcv8O"
   },
   "source": [
    "#### 1. Import pandas and read in the <tt>population_by_county.csv</tt> file into a dataframe called <tt>pop</tt>.\n",
    "\n",
    "#### Path of the file https://raw.githubusercontent.com/gupta24789/Machine-Learning-Datasets/master/population_by_county.csv"
   ]
  },
  {
   "cell_type": "code",
   "execution_count": 1,
   "metadata": {
    "id": "gtagF5D0cv8O"
   },
   "outputs": [],
   "source": [
    "import pandas as pd"
   ]
  },
  {
   "cell_type": "code",
   "execution_count": 2,
   "metadata": {
    "id": "rYJ9e27hc4sy"
   },
   "outputs": [],
   "source": [
    "pop=pd.read_csv('population_by_county.csv')"
   ]
  },
  {
   "cell_type": "code",
   "execution_count": 3,
   "metadata": {
    "id": "LmdBbB8IdC-a"
   },
   "outputs": [
    {
     "data": {
      "text/html": [
       "<div>\n",
       "<style scoped>\n",
       "    .dataframe tbody tr th:only-of-type {\n",
       "        vertical-align: middle;\n",
       "    }\n",
       "\n",
       "    .dataframe tbody tr th {\n",
       "        vertical-align: top;\n",
       "    }\n",
       "\n",
       "    .dataframe thead th {\n",
       "        text-align: right;\n",
       "    }\n",
       "</style>\n",
       "<table border=\"1\" class=\"dataframe\">\n",
       "  <thead>\n",
       "    <tr style=\"text-align: right;\">\n",
       "      <th></th>\n",
       "      <th>County</th>\n",
       "      <th>State</th>\n",
       "      <th>2010Census</th>\n",
       "      <th>2017PopEstimate</th>\n",
       "    </tr>\n",
       "  </thead>\n",
       "  <tbody>\n",
       "    <tr>\n",
       "      <th>0</th>\n",
       "      <td>Abbeville County</td>\n",
       "      <td>South Carolina</td>\n",
       "      <td>25417</td>\n",
       "      <td>24722</td>\n",
       "    </tr>\n",
       "    <tr>\n",
       "      <th>1</th>\n",
       "      <td>Acadia Parish</td>\n",
       "      <td>Louisiana</td>\n",
       "      <td>61773</td>\n",
       "      <td>62590</td>\n",
       "    </tr>\n",
       "    <tr>\n",
       "      <th>2</th>\n",
       "      <td>Accomack County</td>\n",
       "      <td>Virginia</td>\n",
       "      <td>33164</td>\n",
       "      <td>32545</td>\n",
       "    </tr>\n",
       "    <tr>\n",
       "      <th>3</th>\n",
       "      <td>Ada County</td>\n",
       "      <td>Idaho</td>\n",
       "      <td>392365</td>\n",
       "      <td>456849</td>\n",
       "    </tr>\n",
       "    <tr>\n",
       "      <th>4</th>\n",
       "      <td>Adair County</td>\n",
       "      <td>Iowa</td>\n",
       "      <td>7682</td>\n",
       "      <td>7054</td>\n",
       "    </tr>\n",
       "    <tr>\n",
       "      <th>...</th>\n",
       "      <td>...</td>\n",
       "      <td>...</td>\n",
       "      <td>...</td>\n",
       "      <td>...</td>\n",
       "    </tr>\n",
       "    <tr>\n",
       "      <th>3137</th>\n",
       "      <td>Yuma County</td>\n",
       "      <td>Arizona</td>\n",
       "      <td>195751</td>\n",
       "      <td>207534</td>\n",
       "    </tr>\n",
       "    <tr>\n",
       "      <th>3138</th>\n",
       "      <td>Yuma County</td>\n",
       "      <td>Colorado</td>\n",
       "      <td>10043</td>\n",
       "      <td>10075</td>\n",
       "    </tr>\n",
       "    <tr>\n",
       "      <th>3139</th>\n",
       "      <td>Zapata County</td>\n",
       "      <td>Texas</td>\n",
       "      <td>14018</td>\n",
       "      <td>14322</td>\n",
       "    </tr>\n",
       "    <tr>\n",
       "      <th>3140</th>\n",
       "      <td>Zavala County</td>\n",
       "      <td>Texas</td>\n",
       "      <td>11677</td>\n",
       "      <td>11948</td>\n",
       "    </tr>\n",
       "    <tr>\n",
       "      <th>3141</th>\n",
       "      <td>Ziebach County</td>\n",
       "      <td>South Dakota</td>\n",
       "      <td>2801</td>\n",
       "      <td>2756</td>\n",
       "    </tr>\n",
       "  </tbody>\n",
       "</table>\n",
       "<p>3142 rows × 4 columns</p>\n",
       "</div>"
      ],
      "text/plain": [
       "                County           State  2010Census  2017PopEstimate\n",
       "0     Abbeville County  South Carolina       25417            24722\n",
       "1        Acadia Parish       Louisiana       61773            62590\n",
       "2      Accomack County        Virginia       33164            32545\n",
       "3           Ada County           Idaho      392365           456849\n",
       "4         Adair County            Iowa        7682             7054\n",
       "...                ...             ...         ...              ...\n",
       "3137       Yuma County         Arizona      195751           207534\n",
       "3138       Yuma County        Colorado       10043            10075\n",
       "3139     Zapata County           Texas       14018            14322\n",
       "3140     Zavala County           Texas       11677            11948\n",
       "3141    Ziebach County    South Dakota        2801             2756\n",
       "\n",
       "[3142 rows x 4 columns]"
      ]
     },
     "execution_count": 3,
     "metadata": {},
     "output_type": "execute_result"
    }
   ],
   "source": [
    "pop"
   ]
  },
  {
   "cell_type": "markdown",
   "metadata": {
    "id": "MKNgo_uQcv8P"
   },
   "source": [
    "#### 2. Show the head of the dataframe"
   ]
  },
  {
   "cell_type": "code",
   "execution_count": 4,
   "metadata": {
    "id": "HniBT0m_cv8P"
   },
   "outputs": [
    {
     "data": {
      "text/html": [
       "<div>\n",
       "<style scoped>\n",
       "    .dataframe tbody tr th:only-of-type {\n",
       "        vertical-align: middle;\n",
       "    }\n",
       "\n",
       "    .dataframe tbody tr th {\n",
       "        vertical-align: top;\n",
       "    }\n",
       "\n",
       "    .dataframe thead th {\n",
       "        text-align: right;\n",
       "    }\n",
       "</style>\n",
       "<table border=\"1\" class=\"dataframe\">\n",
       "  <thead>\n",
       "    <tr style=\"text-align: right;\">\n",
       "      <th></th>\n",
       "      <th>County</th>\n",
       "      <th>State</th>\n",
       "      <th>2010Census</th>\n",
       "      <th>2017PopEstimate</th>\n",
       "    </tr>\n",
       "  </thead>\n",
       "  <tbody>\n",
       "    <tr>\n",
       "      <th>0</th>\n",
       "      <td>Abbeville County</td>\n",
       "      <td>South Carolina</td>\n",
       "      <td>25417</td>\n",
       "      <td>24722</td>\n",
       "    </tr>\n",
       "    <tr>\n",
       "      <th>1</th>\n",
       "      <td>Acadia Parish</td>\n",
       "      <td>Louisiana</td>\n",
       "      <td>61773</td>\n",
       "      <td>62590</td>\n",
       "    </tr>\n",
       "    <tr>\n",
       "      <th>2</th>\n",
       "      <td>Accomack County</td>\n",
       "      <td>Virginia</td>\n",
       "      <td>33164</td>\n",
       "      <td>32545</td>\n",
       "    </tr>\n",
       "    <tr>\n",
       "      <th>3</th>\n",
       "      <td>Ada County</td>\n",
       "      <td>Idaho</td>\n",
       "      <td>392365</td>\n",
       "      <td>456849</td>\n",
       "    </tr>\n",
       "    <tr>\n",
       "      <th>4</th>\n",
       "      <td>Adair County</td>\n",
       "      <td>Iowa</td>\n",
       "      <td>7682</td>\n",
       "      <td>7054</td>\n",
       "    </tr>\n",
       "  </tbody>\n",
       "</table>\n",
       "</div>"
      ],
      "text/plain": [
       "             County           State  2010Census  2017PopEstimate\n",
       "0  Abbeville County  South Carolina       25417            24722\n",
       "1     Acadia Parish       Louisiana       61773            62590\n",
       "2   Accomack County        Virginia       33164            32545\n",
       "3        Ada County           Idaho      392365           456849\n",
       "4      Adair County            Iowa        7682             7054"
      ]
     },
     "execution_count": 4,
     "metadata": {},
     "output_type": "execute_result"
    }
   ],
   "source": [
    "pop.head()"
   ]
  },
  {
   "cell_type": "code",
   "execution_count": null,
   "metadata": {
    "id": "9ulTKV3Wcv8Q",
    "outputId": "8379c2cf-a220-4005-ab7d-31727c82e673"
   },
   "outputs": [
    {
     "data": {
      "text/html": [
       "<div>\n",
       "<style scoped>\n",
       "    .dataframe tbody tr th:only-of-type {\n",
       "        vertical-align: middle;\n",
       "    }\n",
       "\n",
       "    .dataframe tbody tr th {\n",
       "        vertical-align: top;\n",
       "    }\n",
       "\n",
       "    .dataframe thead th {\n",
       "        text-align: right;\n",
       "    }\n",
       "</style>\n",
       "<table border=\"1\" class=\"dataframe\">\n",
       "  <thead>\n",
       "    <tr style=\"text-align: right;\">\n",
       "      <th></th>\n",
       "      <th>County</th>\n",
       "      <th>State</th>\n",
       "      <th>2010Census</th>\n",
       "      <th>2017PopEstimate</th>\n",
       "    </tr>\n",
       "  </thead>\n",
       "  <tbody>\n",
       "    <tr>\n",
       "      <th>0</th>\n",
       "      <td>Abbeville County</td>\n",
       "      <td>South Carolina</td>\n",
       "      <td>25417</td>\n",
       "      <td>24722</td>\n",
       "    </tr>\n",
       "    <tr>\n",
       "      <th>1</th>\n",
       "      <td>Acadia Parish</td>\n",
       "      <td>Louisiana</td>\n",
       "      <td>61773</td>\n",
       "      <td>62590</td>\n",
       "    </tr>\n",
       "    <tr>\n",
       "      <th>2</th>\n",
       "      <td>Accomack County</td>\n",
       "      <td>Virginia</td>\n",
       "      <td>33164</td>\n",
       "      <td>32545</td>\n",
       "    </tr>\n",
       "    <tr>\n",
       "      <th>3</th>\n",
       "      <td>Ada County</td>\n",
       "      <td>Idaho</td>\n",
       "      <td>392365</td>\n",
       "      <td>456849</td>\n",
       "    </tr>\n",
       "    <tr>\n",
       "      <th>4</th>\n",
       "      <td>Adair County</td>\n",
       "      <td>Iowa</td>\n",
       "      <td>7682</td>\n",
       "      <td>7054</td>\n",
       "    </tr>\n",
       "  </tbody>\n",
       "</table>\n",
       "</div>"
      ],
      "text/plain": [
       "             County           State  2010Census  2017PopEstimate\n",
       "0  Abbeville County  South Carolina       25417            24722\n",
       "1     Acadia Parish       Louisiana       61773            62590\n",
       "2   Accomack County        Virginia       33164            32545\n",
       "3        Ada County           Idaho      392365           456849\n",
       "4      Adair County            Iowa        7682             7054"
      ]
     },
     "execution_count": 3,
     "metadata": {},
     "output_type": "execute_result"
    }
   ],
   "source": [
    "# DON'T WRITE HERE"
   ]
  },
  {
   "cell_type": "markdown",
   "metadata": {
    "id": "Y23Go6dicv8R"
   },
   "source": [
    "#### 3. What are the column names?"
   ]
  },
  {
   "cell_type": "code",
   "execution_count": 5,
   "metadata": {
    "id": "323Qh5b5cv8R"
   },
   "outputs": [
    {
     "data": {
      "text/plain": [
       "Index(['County', 'State', '2010Census', '2017PopEstimate'], dtype='object')"
      ]
     },
     "execution_count": 5,
     "metadata": {},
     "output_type": "execute_result"
    }
   ],
   "source": [
    "pop.columns"
   ]
  },
  {
   "cell_type": "code",
   "execution_count": null,
   "metadata": {
    "id": "T_14e6ogcv8S",
    "outputId": "8312015e-0bf3-4c8a-8de3-f8a0499f8d14"
   },
   "outputs": [
    {
     "data": {
      "text/plain": [
       "Index(['County', 'State', '2010Census', '2017PopEstimate'], dtype='object')"
      ]
     },
     "execution_count": 4,
     "metadata": {},
     "output_type": "execute_result"
    }
   ],
   "source": [
    "# DON'T WRITE HERE"
   ]
  },
  {
   "cell_type": "markdown",
   "metadata": {
    "id": "QjaVY2nncv8S"
   },
   "source": [
    "<strong>4. How many States are represented in this data set?</strong> <em>Note: the data includes the District of Columbia</em>"
   ]
  },
  {
   "cell_type": "code",
   "execution_count": 6,
   "metadata": {
    "id": "wCvwCDCgcv8S"
   },
   "outputs": [
    {
     "data": {
      "text/plain": [
       "51"
      ]
     },
     "execution_count": 6,
     "metadata": {},
     "output_type": "execute_result"
    }
   ],
   "source": [
    "pop['State'].nunique()"
   ]
  },
  {
   "cell_type": "code",
   "execution_count": null,
   "metadata": {
    "id": "JN9h_N_4cv8T",
    "outputId": "ff656bd0-3993-40dd-afeb-f496a9a95ab2"
   },
   "outputs": [
    {
     "data": {
      "text/plain": [
       "51"
      ]
     },
     "execution_count": 5,
     "metadata": {},
     "output_type": "execute_result"
    }
   ],
   "source": [
    "# DON'T WRITE HERE"
   ]
  },
  {
   "cell_type": "markdown",
   "metadata": {
    "id": "mK_Rg5vrcv8T"
   },
   "source": [
    "#### 5. Get a list or array of all the states in the data set."
   ]
  },
  {
   "cell_type": "code",
   "execution_count": 7,
   "metadata": {
    "id": "7Z4HeNjzcv8T"
   },
   "outputs": [
    {
     "data": {
      "text/plain": [
       "array(['South Carolina', 'Louisiana', 'Virginia', 'Idaho', 'Iowa',\n",
       "       'Kentucky', 'Missouri', 'Oklahoma', 'Colorado', 'Illinois',\n",
       "       'Indiana', 'Mississippi', 'Nebraska', 'North Dakota', 'Ohio',\n",
       "       'Pennsylvania', 'Washington', 'Wisconsin', 'Vermont', 'Minnesota',\n",
       "       'Florida', 'North Carolina', 'California', 'New York', 'Wyoming',\n",
       "       'Michigan', 'Alaska', 'Maryland', 'Kansas', 'Tennessee', 'Texas',\n",
       "       'Maine', 'Arizona', 'Georgia', 'Arkansas', 'New Jersey',\n",
       "       'South Dakota', 'Alabama', 'Oregon', 'West Virginia',\n",
       "       'Massachusetts', 'Utah', 'Montana', 'New Hampshire', 'New Mexico',\n",
       "       'Rhode Island', 'Nevada', 'District of Columbia', 'Connecticut',\n",
       "       'Hawaii', 'Delaware'], dtype=object)"
      ]
     },
     "execution_count": 7,
     "metadata": {},
     "output_type": "execute_result"
    }
   ],
   "source": [
    "pop['State'].unique()"
   ]
  },
  {
   "cell_type": "code",
   "execution_count": null,
   "metadata": {
    "id": "IP2ip4ejcv8T",
    "outputId": "d06743f2-b11a-4a6f-d298-18801179fc08",
    "scrolled": true
   },
   "outputs": [
    {
     "data": {
      "text/plain": [
       "array(['South Carolina', 'Louisiana', 'Virginia', 'Idaho', 'Iowa',\n",
       "       'Kentucky', 'Missouri', 'Oklahoma', 'Colorado', 'Illinois',\n",
       "       'Indiana', 'Mississippi', 'Nebraska', 'North Dakota', 'Ohio',\n",
       "       'Pennsylvania', 'Washington', 'Wisconsin', 'Vermont', 'Minnesota',\n",
       "       'Florida', 'North Carolina', 'California', 'New York', 'Wyoming',\n",
       "       'Michigan', 'Alaska', 'Maryland', 'Kansas', 'Tennessee', 'Texas',\n",
       "       'Maine', 'Arizona', 'Georgia', 'Arkansas', 'New Jersey',\n",
       "       'South Dakota', 'Alabama', 'Oregon', 'West Virginia',\n",
       "       'Massachusetts', 'Utah', 'Montana', 'New Hampshire', 'New Mexico',\n",
       "       'Rhode Island', 'Nevada', 'District of Columbia', 'Connecticut',\n",
       "       'Hawaii', 'Delaware'], dtype=object)"
      ]
     },
     "execution_count": 6,
     "metadata": {},
     "output_type": "execute_result"
    }
   ],
   "source": [
    "# DON'T WRITE HERE"
   ]
  },
  {
   "cell_type": "markdown",
   "metadata": {
    "id": "bE5as4Pfcv8T"
   },
   "source": [
    "#### 6. What are the five most common County names in the U.S.?"
   ]
  },
  {
   "cell_type": "code",
   "execution_count": 8,
   "metadata": {
    "id": "k11bFzRJcv8U"
   },
   "outputs": [
    {
     "data": {
      "text/plain": [
       "Washington County    30\n",
       "Jefferson County     25\n",
       "Franklin County      24\n",
       "Jackson County       23\n",
       "Lincoln County       23\n",
       "Name: County, dtype: int64"
      ]
     },
     "execution_count": 8,
     "metadata": {},
     "output_type": "execute_result"
    }
   ],
   "source": [
    "pop_county = pop['County'].value_counts()\n",
    "pop_county.head()"
   ]
  },
  {
   "cell_type": "code",
   "execution_count": null,
   "metadata": {
    "id": "FlrpTseYcv8U",
    "outputId": "42bfaa90-c163-4fcb-eb13-aad8477db308"
   },
   "outputs": [
    {
     "data": {
      "text/plain": [
       "Washington County    30\n",
       "Jefferson County     25\n",
       "Franklin County      24\n",
       "Jackson County       23\n",
       "Lincoln County       23\n",
       "Name: County, dtype: int64"
      ]
     },
     "execution_count": 7,
     "metadata": {},
     "output_type": "execute_result"
    }
   ],
   "source": [
    "# DON'T WRITE HERE"
   ]
  },
  {
   "cell_type": "markdown",
   "metadata": {
    "id": "Y-n0Ck7Dcv8U"
   },
   "source": [
    "#### 7. What are the top 5 most populated Counties according to the 2010 Census?"
   ]
  },
  {
   "cell_type": "code",
   "execution_count": 9,
   "metadata": {
    "id": "38GszXk8cv8U",
    "scrolled": true
   },
   "outputs": [
    {
     "data": {
      "text/html": [
       "<div>\n",
       "<style scoped>\n",
       "    .dataframe tbody tr th:only-of-type {\n",
       "        vertical-align: middle;\n",
       "    }\n",
       "\n",
       "    .dataframe tbody tr th {\n",
       "        vertical-align: top;\n",
       "    }\n",
       "\n",
       "    .dataframe thead th {\n",
       "        text-align: right;\n",
       "    }\n",
       "</style>\n",
       "<table border=\"1\" class=\"dataframe\">\n",
       "  <thead>\n",
       "    <tr style=\"text-align: right;\">\n",
       "      <th></th>\n",
       "      <th>County</th>\n",
       "      <th>State</th>\n",
       "      <th>2010Census</th>\n",
       "      <th>2017PopEstimate</th>\n",
       "    </tr>\n",
       "  </thead>\n",
       "  <tbody>\n",
       "    <tr>\n",
       "      <th>1713</th>\n",
       "      <td>Los Angeles County</td>\n",
       "      <td>California</td>\n",
       "      <td>9818605</td>\n",
       "      <td>10163507</td>\n",
       "    </tr>\n",
       "    <tr>\n",
       "      <th>628</th>\n",
       "      <td>Cook County</td>\n",
       "      <td>Illinois</td>\n",
       "      <td>5194675</td>\n",
       "      <td>5211263</td>\n",
       "    </tr>\n",
       "    <tr>\n",
       "      <th>1209</th>\n",
       "      <td>Harris County</td>\n",
       "      <td>Texas</td>\n",
       "      <td>4092459</td>\n",
       "      <td>4652980</td>\n",
       "    </tr>\n",
       "    <tr>\n",
       "      <th>1784</th>\n",
       "      <td>Maricopa County</td>\n",
       "      <td>Arizona</td>\n",
       "      <td>3817117</td>\n",
       "      <td>4307033</td>\n",
       "    </tr>\n",
       "    <tr>\n",
       "      <th>2501</th>\n",
       "      <td>San Diego County</td>\n",
       "      <td>California</td>\n",
       "      <td>3095313</td>\n",
       "      <td>3337685</td>\n",
       "    </tr>\n",
       "  </tbody>\n",
       "</table>\n",
       "</div>"
      ],
      "text/plain": [
       "                  County       State  2010Census  2017PopEstimate\n",
       "1713  Los Angeles County  California     9818605         10163507\n",
       "628          Cook County    Illinois     5194675          5211263\n",
       "1209       Harris County       Texas     4092459          4652980\n",
       "1784     Maricopa County     Arizona     3817117          4307033\n",
       "2501    San Diego County  California     3095313          3337685"
      ]
     },
     "execution_count": 9,
     "metadata": {},
     "output_type": "execute_result"
    }
   ],
   "source": [
    "pop_sort = pop.sort_values(by='2010Census',ascending=False)\n",
    "pop_sort.head()"
   ]
  },
  {
   "cell_type": "code",
   "execution_count": null,
   "metadata": {
    "id": "hdKFjAiscv8U",
    "outputId": "de57ba37-c75d-4813-ac26-8480ff37db5a"
   },
   "outputs": [
    {
     "data": {
      "text/html": [
       "<div>\n",
       "<style scoped>\n",
       "    .dataframe tbody tr th:only-of-type {\n",
       "        vertical-align: middle;\n",
       "    }\n",
       "\n",
       "    .dataframe tbody tr th {\n",
       "        vertical-align: top;\n",
       "    }\n",
       "\n",
       "    .dataframe thead th {\n",
       "        text-align: right;\n",
       "    }\n",
       "</style>\n",
       "<table border=\"1\" class=\"dataframe\">\n",
       "  <thead>\n",
       "    <tr style=\"text-align: right;\">\n",
       "      <th></th>\n",
       "      <th>County</th>\n",
       "      <th>State</th>\n",
       "      <th>2010Census</th>\n",
       "      <th>2017PopEstimate</th>\n",
       "    </tr>\n",
       "  </thead>\n",
       "  <tbody>\n",
       "    <tr>\n",
       "      <th>1713</th>\n",
       "      <td>Los Angeles County</td>\n",
       "      <td>California</td>\n",
       "      <td>9818605</td>\n",
       "      <td>10163507</td>\n",
       "    </tr>\n",
       "    <tr>\n",
       "      <th>628</th>\n",
       "      <td>Cook County</td>\n",
       "      <td>Illinois</td>\n",
       "      <td>5194675</td>\n",
       "      <td>5211263</td>\n",
       "    </tr>\n",
       "    <tr>\n",
       "      <th>1209</th>\n",
       "      <td>Harris County</td>\n",
       "      <td>Texas</td>\n",
       "      <td>4092459</td>\n",
       "      <td>4652980</td>\n",
       "    </tr>\n",
       "    <tr>\n",
       "      <th>1784</th>\n",
       "      <td>Maricopa County</td>\n",
       "      <td>Arizona</td>\n",
       "      <td>3817117</td>\n",
       "      <td>4307033</td>\n",
       "    </tr>\n",
       "    <tr>\n",
       "      <th>2501</th>\n",
       "      <td>San Diego County</td>\n",
       "      <td>California</td>\n",
       "      <td>3095313</td>\n",
       "      <td>3337685</td>\n",
       "    </tr>\n",
       "  </tbody>\n",
       "</table>\n",
       "</div>"
      ],
      "text/plain": [
       "                  County       State  2010Census  2017PopEstimate\n",
       "1713  Los Angeles County  California     9818605         10163507\n",
       "628          Cook County    Illinois     5194675          5211263\n",
       "1209       Harris County       Texas     4092459          4652980\n",
       "1784     Maricopa County     Arizona     3817117          4307033\n",
       "2501    San Diego County  California     3095313          3337685"
      ]
     },
     "execution_count": 8,
     "metadata": {},
     "output_type": "execute_result"
    }
   ],
   "source": [
    "# DON'T WRITE HERE"
   ]
  },
  {
   "cell_type": "markdown",
   "metadata": {
    "id": "ZeVosMSwcv8U"
   },
   "source": [
    "#### 8. What are the top 5 most populated States according to the 2010 Census?"
   ]
  },
  {
   "cell_type": "code",
   "execution_count": 10,
   "metadata": {
    "id": "51rBj2Yscv8V"
   },
   "outputs": [
    {
     "data": {
      "text/html": [
       "<div>\n",
       "<style scoped>\n",
       "    .dataframe tbody tr th:only-of-type {\n",
       "        vertical-align: middle;\n",
       "    }\n",
       "\n",
       "    .dataframe tbody tr th {\n",
       "        vertical-align: top;\n",
       "    }\n",
       "\n",
       "    .dataframe thead th {\n",
       "        text-align: right;\n",
       "    }\n",
       "</style>\n",
       "<table border=\"1\" class=\"dataframe\">\n",
       "  <thead>\n",
       "    <tr style=\"text-align: right;\">\n",
       "      <th></th>\n",
       "      <th>2010Census</th>\n",
       "      <th>2017PopEstimate</th>\n",
       "    </tr>\n",
       "    <tr>\n",
       "      <th>State</th>\n",
       "      <th></th>\n",
       "      <th></th>\n",
       "    </tr>\n",
       "  </thead>\n",
       "  <tbody>\n",
       "    <tr>\n",
       "      <th>California</th>\n",
       "      <td>37253956</td>\n",
       "      <td>39536653</td>\n",
       "    </tr>\n",
       "    <tr>\n",
       "      <th>Texas</th>\n",
       "      <td>25145561</td>\n",
       "      <td>28304596</td>\n",
       "    </tr>\n",
       "    <tr>\n",
       "      <th>New York</th>\n",
       "      <td>19378102</td>\n",
       "      <td>19849399</td>\n",
       "    </tr>\n",
       "    <tr>\n",
       "      <th>Florida</th>\n",
       "      <td>18801310</td>\n",
       "      <td>20984400</td>\n",
       "    </tr>\n",
       "    <tr>\n",
       "      <th>Illinois</th>\n",
       "      <td>12830632</td>\n",
       "      <td>12802023</td>\n",
       "    </tr>\n",
       "  </tbody>\n",
       "</table>\n",
       "</div>"
      ],
      "text/plain": [
       "            2010Census  2017PopEstimate\n",
       "State                                  \n",
       "California    37253956         39536653\n",
       "Texas         25145561         28304596\n",
       "New York      19378102         19849399\n",
       "Florida       18801310         20984400\n",
       "Illinois      12830632         12802023"
      ]
     },
     "execution_count": 10,
     "metadata": {},
     "output_type": "execute_result"
    }
   ],
   "source": [
    "pop_state=pop.groupby('State').sum()\n",
    "pop_stt = pop_state.sort_values(by='2010Census',ascending=False)\n",
    "pop_stt.head()"
   ]
  },
  {
   "cell_type": "code",
   "execution_count": null,
   "metadata": {
    "id": "U3_9AogTcv8V",
    "outputId": "e6aa1d70-364f-4d04-c249-28dc620e13fe"
   },
   "outputs": [
    {
     "data": {
      "text/html": [
       "<div>\n",
       "<style scoped>\n",
       "    .dataframe tbody tr th:only-of-type {\n",
       "        vertical-align: middle;\n",
       "    }\n",
       "\n",
       "    .dataframe tbody tr th {\n",
       "        vertical-align: top;\n",
       "    }\n",
       "\n",
       "    .dataframe thead th {\n",
       "        text-align: right;\n",
       "    }\n",
       "</style>\n",
       "<table border=\"1\" class=\"dataframe\">\n",
       "  <thead>\n",
       "    <tr style=\"text-align: right;\">\n",
       "      <th></th>\n",
       "      <th>2010Census</th>\n",
       "      <th>2017PopEstimate</th>\n",
       "    </tr>\n",
       "    <tr>\n",
       "      <th>State</th>\n",
       "      <th></th>\n",
       "      <th></th>\n",
       "    </tr>\n",
       "  </thead>\n",
       "  <tbody>\n",
       "    <tr>\n",
       "      <th>California</th>\n",
       "      <td>37253956</td>\n",
       "      <td>39536653</td>\n",
       "    </tr>\n",
       "    <tr>\n",
       "      <th>Texas</th>\n",
       "      <td>25145561</td>\n",
       "      <td>28304596</td>\n",
       "    </tr>\n",
       "    <tr>\n",
       "      <th>New York</th>\n",
       "      <td>19378102</td>\n",
       "      <td>19849399</td>\n",
       "    </tr>\n",
       "    <tr>\n",
       "      <th>Florida</th>\n",
       "      <td>18801310</td>\n",
       "      <td>20984400</td>\n",
       "    </tr>\n",
       "    <tr>\n",
       "      <th>Illinois</th>\n",
       "      <td>12830632</td>\n",
       "      <td>12802023</td>\n",
       "    </tr>\n",
       "  </tbody>\n",
       "</table>\n",
       "</div>"
      ],
      "text/plain": [
       "            2010Census  2017PopEstimate\n",
       "State                                  \n",
       "California    37253956         39536653\n",
       "Texas         25145561         28304596\n",
       "New York      19378102         19849399\n",
       "Florida       18801310         20984400\n",
       "Illinois      12830632         12802023"
      ]
     },
     "execution_count": 9,
     "metadata": {},
     "output_type": "execute_result"
    }
   ],
   "source": [
    "# DON'T WRITE HERE"
   ]
  },
  {
   "cell_type": "markdown",
   "metadata": {
    "id": "rVoWYPh4cv8V"
   },
   "source": [
    "#### 9. How many Counties have 2010 populations greater than 1 million?"
   ]
  },
  {
   "cell_type": "code",
   "execution_count": 11,
   "metadata": {
    "id": "rZnSBkp-cv8V"
   },
   "outputs": [
    {
     "data": {
      "text/plain": [
       "39"
      ]
     },
     "execution_count": 11,
     "metadata": {},
     "output_type": "execute_result"
    }
   ],
   "source": [
    "pop_greater = pop['2010Census']>1000000\n",
    "pop_greater.sum()"
   ]
  },
  {
   "cell_type": "code",
   "execution_count": null,
   "metadata": {
    "id": "fiCXog9Ucv8V",
    "outputId": "5e16f80d-8052-42de-a000-4725d1cd5825"
   },
   "outputs": [
    {
     "data": {
      "text/plain": [
       "39"
      ]
     },
     "execution_count": 10,
     "metadata": {},
     "output_type": "execute_result"
    }
   ],
   "source": [
    "# DON'T WRITE HERE"
   ]
  },
  {
   "cell_type": "markdown",
   "metadata": {
    "id": "gGfovs2qcv8V"
   },
   "source": [
    "#### 10. How many Counties don't have the word \"County\" in their name?"
   ]
  },
  {
   "cell_type": "code",
   "execution_count": 12,
   "metadata": {
    "id": "vwUCxTjpcv8V"
   },
   "outputs": [
    {
     "data": {
      "text/plain": [
       "135"
      ]
     },
     "execution_count": 12,
     "metadata": {},
     "output_type": "execute_result"
    }
   ],
   "source": [
    "pop_con = pop[~pop[\"County\"].str.contains(\"County\")]\n",
    "pop_con['County'].nunique()"
   ]
  },
  {
   "cell_type": "code",
   "execution_count": null,
   "metadata": {
    "id": "jzScufaQcv8W",
    "outputId": "4e289255-b327-4475-95a9-788857bc603b"
   },
   "outputs": [
    {
     "data": {
      "text/plain": [
       "135"
      ]
     },
     "execution_count": 11,
     "metadata": {},
     "output_type": "execute_result"
    }
   ],
   "source": [
    "# DON'T WRITE HERE"
   ]
  },
  {
   "cell_type": "markdown",
   "metadata": {
    "id": "OnYVZcH8cv8W"
   },
   "source": [
    "#### 11. Add a column that calculates the percent change between the 2010 Census and the 2017 Population Estimate"
   ]
  },
  {
   "cell_type": "code",
   "execution_count": 13,
   "metadata": {
    "id": "_8HTX2GFcv8W"
   },
   "outputs": [
    {
     "data": {
      "text/html": [
       "<div>\n",
       "<style scoped>\n",
       "    .dataframe tbody tr th:only-of-type {\n",
       "        vertical-align: middle;\n",
       "    }\n",
       "\n",
       "    .dataframe tbody tr th {\n",
       "        vertical-align: top;\n",
       "    }\n",
       "\n",
       "    .dataframe thead th {\n",
       "        text-align: right;\n",
       "    }\n",
       "</style>\n",
       "<table border=\"1\" class=\"dataframe\">\n",
       "  <thead>\n",
       "    <tr style=\"text-align: right;\">\n",
       "      <th></th>\n",
       "      <th>County</th>\n",
       "      <th>State</th>\n",
       "      <th>2010Census</th>\n",
       "      <th>2017PopEstimate</th>\n",
       "      <th>PercentChange</th>\n",
       "    </tr>\n",
       "  </thead>\n",
       "  <tbody>\n",
       "    <tr>\n",
       "      <th>0</th>\n",
       "      <td>Abbeville County</td>\n",
       "      <td>South Carolina</td>\n",
       "      <td>25417</td>\n",
       "      <td>24722</td>\n",
       "      <td>-2.734390</td>\n",
       "    </tr>\n",
       "    <tr>\n",
       "      <th>1</th>\n",
       "      <td>Acadia Parish</td>\n",
       "      <td>Louisiana</td>\n",
       "      <td>61773</td>\n",
       "      <td>62590</td>\n",
       "      <td>1.322584</td>\n",
       "    </tr>\n",
       "    <tr>\n",
       "      <th>2</th>\n",
       "      <td>Accomack County</td>\n",
       "      <td>Virginia</td>\n",
       "      <td>33164</td>\n",
       "      <td>32545</td>\n",
       "      <td>-1.866482</td>\n",
       "    </tr>\n",
       "    <tr>\n",
       "      <th>3</th>\n",
       "      <td>Ada County</td>\n",
       "      <td>Idaho</td>\n",
       "      <td>392365</td>\n",
       "      <td>456849</td>\n",
       "      <td>16.434697</td>\n",
       "    </tr>\n",
       "    <tr>\n",
       "      <th>4</th>\n",
       "      <td>Adair County</td>\n",
       "      <td>Iowa</td>\n",
       "      <td>7682</td>\n",
       "      <td>7054</td>\n",
       "      <td>-8.174954</td>\n",
       "    </tr>\n",
       "  </tbody>\n",
       "</table>\n",
       "</div>"
      ],
      "text/plain": [
       "             County           State  2010Census  2017PopEstimate  \\\n",
       "0  Abbeville County  South Carolina       25417            24722   \n",
       "1     Acadia Parish       Louisiana       61773            62590   \n",
       "2   Accomack County        Virginia       33164            32545   \n",
       "3        Ada County           Idaho      392365           456849   \n",
       "4      Adair County            Iowa        7682             7054   \n",
       "\n",
       "   PercentChange  \n",
       "0      -2.734390  \n",
       "1       1.322584  \n",
       "2      -1.866482  \n",
       "3      16.434697  \n",
       "4      -8.174954  "
      ]
     },
     "execution_count": 13,
     "metadata": {},
     "output_type": "execute_result"
    }
   ],
   "source": [
    "pop['PercentChange'] = 100 * (pop['2017PopEstimate']/pop['2010Census'] - 1)\n",
    "pop.head()"
   ]
  },
  {
   "cell_type": "code",
   "execution_count": null,
   "metadata": {
    "id": "N36xQlEtcv8W",
    "outputId": "c56e94de-56d0-4b67-92ba-31df88df7806"
   },
   "outputs": [
    {
     "data": {
      "text/html": [
       "<div>\n",
       "<style scoped>\n",
       "    .dataframe tbody tr th:only-of-type {\n",
       "        vertical-align: middle;\n",
       "    }\n",
       "\n",
       "    .dataframe tbody tr th {\n",
       "        vertical-align: top;\n",
       "    }\n",
       "\n",
       "    .dataframe thead th {\n",
       "        text-align: right;\n",
       "    }\n",
       "</style>\n",
       "<table border=\"1\" class=\"dataframe\">\n",
       "  <thead>\n",
       "    <tr style=\"text-align: right;\">\n",
       "      <th></th>\n",
       "      <th>County</th>\n",
       "      <th>State</th>\n",
       "      <th>2010Census</th>\n",
       "      <th>2017PopEstimate</th>\n",
       "      <th>PercentChange</th>\n",
       "    </tr>\n",
       "  </thead>\n",
       "  <tbody>\n",
       "    <tr>\n",
       "      <th>0</th>\n",
       "      <td>Abbeville County</td>\n",
       "      <td>South Carolina</td>\n",
       "      <td>25417</td>\n",
       "      <td>24722</td>\n",
       "      <td>-2.734390</td>\n",
       "    </tr>\n",
       "    <tr>\n",
       "      <th>1</th>\n",
       "      <td>Acadia Parish</td>\n",
       "      <td>Louisiana</td>\n",
       "      <td>61773</td>\n",
       "      <td>62590</td>\n",
       "      <td>1.322584</td>\n",
       "    </tr>\n",
       "    <tr>\n",
       "      <th>2</th>\n",
       "      <td>Accomack County</td>\n",
       "      <td>Virginia</td>\n",
       "      <td>33164</td>\n",
       "      <td>32545</td>\n",
       "      <td>-1.866482</td>\n",
       "    </tr>\n",
       "    <tr>\n",
       "      <th>3</th>\n",
       "      <td>Ada County</td>\n",
       "      <td>Idaho</td>\n",
       "      <td>392365</td>\n",
       "      <td>456849</td>\n",
       "      <td>16.434697</td>\n",
       "    </tr>\n",
       "    <tr>\n",
       "      <th>4</th>\n",
       "      <td>Adair County</td>\n",
       "      <td>Iowa</td>\n",
       "      <td>7682</td>\n",
       "      <td>7054</td>\n",
       "      <td>-8.174954</td>\n",
       "    </tr>\n",
       "  </tbody>\n",
       "</table>\n",
       "</div>"
      ],
      "text/plain": [
       "             County           State  2010Census  2017PopEstimate  \\\n",
       "0  Abbeville County  South Carolina       25417            24722   \n",
       "1     Acadia Parish       Louisiana       61773            62590   \n",
       "2   Accomack County        Virginia       33164            32545   \n",
       "3        Ada County           Idaho      392365           456849   \n",
       "4      Adair County            Iowa        7682             7054   \n",
       "\n",
       "   PercentChange  \n",
       "0      -2.734390  \n",
       "1       1.322584  \n",
       "2      -1.866482  \n",
       "3      16.434697  \n",
       "4      -8.174954  "
      ]
     },
     "execution_count": 12,
     "metadata": {},
     "output_type": "execute_result"
    }
   ],
   "source": [
    "# DON'T WRITE HERE"
   ]
  },
  {
   "cell_type": "markdown",
   "metadata": {
    "id": "fgucRilCcv8W"
   },
   "source": [
    "<strong>Bonus: What States have the highest estimated percent change between the 2010 Census and the 2017 Population Estimate?</strong><br>This will take several lines of code, as it requires a recalculation of PercentChange."
   ]
  },
  {
   "cell_type": "code",
   "execution_count": 18,
   "metadata": {
    "id": "zUYoDskFcv8W"
   },
   "outputs": [
    {
     "data": {
      "text/html": [
       "<div>\n",
       "<style scoped>\n",
       "    .dataframe tbody tr th:only-of-type {\n",
       "        vertical-align: middle;\n",
       "    }\n",
       "\n",
       "    .dataframe tbody tr th {\n",
       "        vertical-align: top;\n",
       "    }\n",
       "\n",
       "    .dataframe thead th {\n",
       "        text-align: right;\n",
       "    }\n",
       "</style>\n",
       "<table border=\"1\" class=\"dataframe\">\n",
       "  <thead>\n",
       "    <tr style=\"text-align: right;\">\n",
       "      <th></th>\n",
       "      <th>2010Census</th>\n",
       "      <th>2017PopEstimate</th>\n",
       "      <th>PercentChange</th>\n",
       "    </tr>\n",
       "    <tr>\n",
       "      <th>State</th>\n",
       "      <th></th>\n",
       "      <th></th>\n",
       "      <th></th>\n",
       "    </tr>\n",
       "  </thead>\n",
       "  <tbody>\n",
       "    <tr>\n",
       "      <th>District of Columbia</th>\n",
       "      <td>601723</td>\n",
       "      <td>693972</td>\n",
       "      <td>15.330808</td>\n",
       "    </tr>\n",
       "    <tr>\n",
       "      <th>Texas</th>\n",
       "      <td>25145561</td>\n",
       "      <td>28304596</td>\n",
       "      <td>12.562993</td>\n",
       "    </tr>\n",
       "    <tr>\n",
       "      <th>North Dakota</th>\n",
       "      <td>672591</td>\n",
       "      <td>755393</td>\n",
       "      <td>12.310899</td>\n",
       "    </tr>\n",
       "    <tr>\n",
       "      <th>Utah</th>\n",
       "      <td>2763885</td>\n",
       "      <td>3101833</td>\n",
       "      <td>12.227282</td>\n",
       "    </tr>\n",
       "    <tr>\n",
       "      <th>Florida</th>\n",
       "      <td>18801310</td>\n",
       "      <td>20984400</td>\n",
       "      <td>11.611372</td>\n",
       "    </tr>\n",
       "  </tbody>\n",
       "</table>\n",
       "</div>"
      ],
      "text/plain": [
       "                      2010Census  2017PopEstimate  PercentChange\n",
       "State                                                           \n",
       "District of Columbia      601723           693972      15.330808\n",
       "Texas                   25145561         28304596      12.562993\n",
       "North Dakota              672591           755393      12.310899\n",
       "Utah                     2763885          3101833      12.227282\n",
       "Florida                 18801310         20984400      11.611372"
      ]
     },
     "execution_count": 18,
     "metadata": {},
     "output_type": "execute_result"
    }
   ],
   "source": [
    "pop_state=pop.groupby('State').sum()\n",
    "pop_state['PercentChange'] = 100 * (pop_state['2017PopEstimate']/pop_state['2010Census'] - 1)\n",
    "pop_sorted = pop_state.sort_values(by='PercentChange',ascending=False)\n",
    "pop_sorted.head()\n"
   ]
  },
  {
   "cell_type": "code",
   "execution_count": null,
   "metadata": {
    "id": "iE0chTlBcv8X",
    "outputId": "c19d994b-aa1c-439d-fc95-c0ed0fc38bfd"
   },
   "outputs": [
    {
     "data": {
      "text/html": [
       "<div>\n",
       "<style scoped>\n",
       "    .dataframe tbody tr th:only-of-type {\n",
       "        vertical-align: middle;\n",
       "    }\n",
       "\n",
       "    .dataframe tbody tr th {\n",
       "        vertical-align: top;\n",
       "    }\n",
       "\n",
       "    .dataframe thead th {\n",
       "        text-align: right;\n",
       "    }\n",
       "</style>\n",
       "<table border=\"1\" class=\"dataframe\">\n",
       "  <thead>\n",
       "    <tr style=\"text-align: right;\">\n",
       "      <th></th>\n",
       "      <th>2010Census</th>\n",
       "      <th>2017PopEstimate</th>\n",
       "      <th>PercentChange</th>\n",
       "    </tr>\n",
       "    <tr>\n",
       "      <th>State</th>\n",
       "      <th></th>\n",
       "      <th></th>\n",
       "      <th></th>\n",
       "    </tr>\n",
       "  </thead>\n",
       "  <tbody>\n",
       "    <tr>\n",
       "      <th>District of Columbia</th>\n",
       "      <td>601723</td>\n",
       "      <td>693972</td>\n",
       "      <td>15.330808</td>\n",
       "    </tr>\n",
       "    <tr>\n",
       "      <th>Texas</th>\n",
       "      <td>25145561</td>\n",
       "      <td>28304596</td>\n",
       "      <td>12.562993</td>\n",
       "    </tr>\n",
       "    <tr>\n",
       "      <th>North Dakota</th>\n",
       "      <td>672591</td>\n",
       "      <td>755393</td>\n",
       "      <td>12.310899</td>\n",
       "    </tr>\n",
       "    <tr>\n",
       "      <th>Utah</th>\n",
       "      <td>2763885</td>\n",
       "      <td>3101833</td>\n",
       "      <td>12.227282</td>\n",
       "    </tr>\n",
       "    <tr>\n",
       "      <th>Florida</th>\n",
       "      <td>18801310</td>\n",
       "      <td>20984400</td>\n",
       "      <td>11.611372</td>\n",
       "    </tr>\n",
       "  </tbody>\n",
       "</table>\n",
       "</div>"
      ],
      "text/plain": [
       "                      2010Census  2017PopEstimate  PercentChange\n",
       "State                                                           \n",
       "District of Columbia      601723           693972      15.330808\n",
       "Texas                   25145561         28304596      12.562993\n",
       "North Dakota              672591           755393      12.310899\n",
       "Utah                     2763885          3101833      12.227282\n",
       "Florida                 18801310         20984400      11.611372"
      ]
     },
     "execution_count": 13,
     "metadata": {},
     "output_type": "execute_result"
    }
   ],
   "source": [
    "# DON'T WRITE HERE"
   ]
  },
  {
   "cell_type": "markdown",
   "metadata": {
    "id": "WtE-SWILcv8X"
   },
   "source": [
    "**Upload this file with your answers until 13.10.2021 - 23:59**"
   ]
  },
  {
   "cell_type": "code",
   "execution_count": null,
   "metadata": {
    "id": "iSr6WzJfq8vz"
   },
   "outputs": [],
   "source": []
  }
 ],
 "metadata": {
  "colab": {
   "collapsed_sections": [],
   "name": "Pandas-Homework.ipynb",
   "provenance": []
  },
  "kernelspec": {
   "display_name": "Python 3",
   "language": "python",
   "name": "python3"
  },
  "language_info": {
   "codemirror_mode": {
    "name": "ipython",
    "version": 3
   },
   "file_extension": ".py",
   "mimetype": "text/x-python",
   "name": "python",
   "nbconvert_exporter": "python",
   "pygments_lexer": "ipython3",
   "version": "3.8.8"
  }
 },
 "nbformat": 4,
 "nbformat_minor": 1
}
